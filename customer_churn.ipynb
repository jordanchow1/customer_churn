{
 "cells": [
  {
   "cell_type": "code",
   "execution_count": 1,
   "id": "ab61f843",
   "metadata": {},
   "outputs": [],
   "source": [
    "import numpy as np\n",
    "import pandas as pd\n",
    "import statsmodels.api as sm\n",
    "import matplotlib.pyplot as plt\n",
    "import seaborn as sb\n",
    "%matplotlib inline\n",
    "import warnings\n",
    "warnings.simplefilter(\"ignore\")\n",
    "pd.set_option('display.max_columns', None)\n",
    "pd.set_option('display.max_rows', None)"
   ]
  },
  {
   "cell_type": "code",
   "execution_count": null,
   "id": "80d06756",
   "metadata": {},
   "outputs": [],
   "source": [
    "df = pd.read_csv(\"Telco-Customer-Churn.csv\")"
   ]
  },
  {
   "cell_type": "markdown",
   "id": "1d283191",
   "metadata": {},
   "source": [
    "## Data Exploration"
   ]
  },
  {
   "cell_type": "code",
   "execution_count": null,
   "id": "357a36f8",
   "metadata": {},
   "outputs": [],
   "source": [
    "df.head()"
   ]
  },
  {
   "cell_type": "code",
   "execution_count": null,
   "id": "45e5cebd",
   "metadata": {},
   "outputs": [],
   "source": [
    "df.describe()"
   ]
  },
  {
   "cell_type": "code",
   "execution_count": null,
   "id": "1a6a70e6",
   "metadata": {},
   "outputs": [],
   "source": [
    "df.info()"
   ]
  },
  {
   "cell_type": "code",
   "execution_count": null,
   "id": "11613006",
   "metadata": {},
   "outputs": [],
   "source": [
    "df_to_plot = df.drop(columns=['customerID'])\n",
    "\n",
    "df_to_plot.plot(subplots=True, kind='box', patch_artist=True)\n",
    "plt.savefig('boxplots.png', bbox_inches='tight')"
   ]
  },
  {
   "cell_type": "markdown",
   "id": "27b07bc1",
   "metadata": {},
   "source": [
    "## Correlations"
   ]
  },
  {
   "cell_type": "code",
   "execution_count": null,
   "id": "eaf967eb",
   "metadata": {},
   "outputs": [],
   "source": [
    "# select columns to plot\n",
    "df_to_plot = df.drop(columns=['customerID'])\n",
    "\n",
    "# create heatmap\n",
    "plt.figure(figsize = (12, 9))\n",
    "s = sb.heatmap(df_to_plot.corr(),  cmap = 'RdBu',vmin = -1, vmax = 1,center = 0)\n",
    "s.set_yticklabels(s.get_yticklabels(), rotation = 0, fontsize = 12)\n",
    "s.set_xticklabels(s.get_xticklabels(), rotation = 90, fontsize = 12)\n",
    "bottom, top = s.get_ylim()\n",
    "s.set_ylim(bottom + 0.5, top - 0.5)\n",
    "plt.title(\"Correlation Heatmap\")\n",
    "plt.savefig('heatmap.png', bbox_inches='tight')\n",
    "plt.show()"
   ]
  },
  {
   "cell_type": "code",
   "execution_count": null,
   "id": "4243e9b4",
   "metadata": {},
   "outputs": [],
   "source": [
    "df.corr()"
   ]
  },
  {
   "cell_type": "code",
   "execution_count": null,
   "id": "12d3f7ca",
   "metadata": {},
   "outputs": [],
   "source": [
    "## No Correlations between the numerical variables"
   ]
  },
  {
   "cell_type": "code",
   "execution_count": null,
   "id": "4df86c36",
   "metadata": {},
   "outputs": [],
   "source": [
    "df.hist()"
   ]
  },
  {
   "cell_type": "code",
   "execution_count": null,
   "id": "df46d044",
   "metadata": {},
   "outputs": [],
   "source": [
    "df = df.drop(columns=['customerID'])\n",
    "df.TotalCharges = pd.to_numeric(df.TotalCharges, errors='coerce')\n",
    "df = df.dropna()\n",
    "y = df['Churn']\n",
    "X = df.drop(columns='Churn')\n",
    "X = pd.get_dummies(X)"
   ]
  },
  {
   "cell_type": "code",
   "execution_count": null,
   "id": "58812ca8",
   "metadata": {},
   "outputs": [],
   "source": [
    "y_dummy = []\n",
    "for i in y:\n",
    "    if i=='No':\n",
    "        a = 0\n",
    "    else:\n",
    "        a = 1\n",
    "    y_dummy.append(a)"
   ]
  },
  {
   "cell_type": "code",
   "execution_count": null,
   "id": "bdbd2f32",
   "metadata": {},
   "outputs": [],
   "source": [
    "from sklearn.model_selection import train_test_split\n",
    "X_train, X_test, y_train, y_test = train_test_split(X, y, test_size = 0.3)"
   ]
  },
  {
   "cell_type": "code",
   "execution_count": null,
   "id": "3355bab6",
   "metadata": {},
   "outputs": [],
   "source": [
    "from sklearn.linear_model import LogisticRegression"
   ]
  },
  {
   "cell_type": "code",
   "execution_count": null,
   "id": "5bd0396d",
   "metadata": {},
   "outputs": [],
   "source": [
    "log_reg = LogisticRegression().fit(X_train, y_train)"
   ]
  },
  {
   "cell_type": "code",
   "execution_count": null,
   "id": "99f495aa",
   "metadata": {},
   "outputs": [],
   "source": [
    "y_pred = log_reg.predict(X_test)"
   ]
  },
  {
   "cell_type": "code",
   "execution_count": null,
   "id": "4d83ad89",
   "metadata": {},
   "outputs": [],
   "source": [
    "log_reg.score(X_test, y_test)"
   ]
  },
  {
   "cell_type": "code",
   "execution_count": null,
   "id": "8b4df2bf",
   "metadata": {},
   "outputs": [],
   "source": [
    "from sklearn.metrics import confusion_matrix"
   ]
  },
  {
   "cell_type": "code",
   "execution_count": null,
   "id": "7e665c57",
   "metadata": {},
   "outputs": [],
   "source": [
    "cm = confusion_matrix(y_test, y_pred)"
   ]
  },
  {
   "cell_type": "code",
   "execution_count": null,
   "id": "7f2e479d",
   "metadata": {},
   "outputs": [],
   "source": [
    "import seaborn as sns"
   ]
  },
  {
   "cell_type": "code",
   "execution_count": null,
   "id": "dd11ab91",
   "metadata": {},
   "outputs": [],
   "source": [
    "sns.heatmap(cm, cmap = \"Greens\", annot = True, \n",
    "            cbar_kws = {\"orientation\": \"vertical\"},\n",
    "                       xticklabels = [0,1], yticklabels=[0,1])\n",
    "plt.xlabel(\"Predicted\")\n",
    "plt.ylabel(\"Actual\")\n",
    "plt.show()"
   ]
  },
  {
   "cell_type": "code",
   "execution_count": null,
   "id": "081249fa-7513-4c47-9d76-556f510402e7",
   "metadata": {},
   "outputs": [],
   "source": [
    "## Logistic Regression using statsmodels"
   ]
  },
  {
   "cell_type": "code",
   "execution_count": 2,
   "id": "866bcb7b-215d-4f6b-9953-e7360025af00",
   "metadata": {},
   "outputs": [],
   "source": [
    "df = pd.read_csv('Telco-Customer-Churn.csv')"
   ]
  },
  {
   "cell_type": "code",
   "execution_count": 3,
   "id": "402704c1-948b-446f-a88b-e21f9e087990",
   "metadata": {},
   "outputs": [],
   "source": [
    "# Convert TotalCharges to numeric (some entries may be blank strings)\n",
    "df['TotalCharges'] = pd.to_numeric(df['TotalCharges'], errors='coerce')\n",
    "\n",
    "# Drop rows with missing values\n",
    "df = df.dropna()\n",
    "\n",
    "# Reset index after dropping\n",
    "df = df.reset_index(drop=True)"
   ]
  },
  {
   "cell_type": "code",
   "execution_count": 4,
   "id": "c6cd4fa1-4b33-45c3-870d-51668baf4186",
   "metadata": {},
   "outputs": [],
   "source": [
    "X = df.drop(['customerID', 'Churn'], axis=1)\n",
    "y = df['Churn'].map({'Yes': 1, 'No': 0})"
   ]
  },
  {
   "cell_type": "code",
   "execution_count": 5,
   "id": "e1f17c78-6fe8-4a9b-9f1c-2ea1fd50a958",
   "metadata": {},
   "outputs": [],
   "source": [
    "# Convert categorical variables to dummy variables\n",
    "X = pd.get_dummies(X, drop_first=True)"
   ]
  },
  {
   "cell_type": "code",
   "execution_count": 7,
   "id": "26e4e2c4-62e1-42ba-a318-f19bfafb14d8",
   "metadata": {},
   "outputs": [],
   "source": [
    "# Drop constant or near-constant columns\n",
    "X = X.loc[:, X.nunique() > 1]\n",
    "\n",
    "# Drop perfectly correlated columns\n",
    "corr = X.corr().abs()\n",
    "upper = corr.where(np.triu(np.ones(corr.shape), k=1).astype(bool))\n",
    "to_drop = [column for column in upper.columns if any(upper[column] > 0.999)]\n",
    "X = X.drop(columns=to_drop)"
   ]
  },
  {
   "cell_type": "code",
   "execution_count": 8,
   "id": "9426800b-085c-44b4-bb2a-81bcccec59f7",
   "metadata": {},
   "outputs": [],
   "source": [
    "X = sm.add_constant(X)"
   ]
  },
  {
   "cell_type": "code",
   "execution_count": 9,
   "id": "dab040bb-593b-4347-a8b9-7667541cd588",
   "metadata": {},
   "outputs": [
    {
     "name": "stdout",
     "output_type": "stream",
     "text": [
      "Optimization terminated successfully.\n",
      "         Current function value: 0.414269\n",
      "         Iterations 8\n",
      "                           Logit Regression Results                           \n",
      "==============================================================================\n",
      "Dep. Variable:                  Churn   No. Observations:                 7032\n",
      "Model:                          Logit   Df Residuals:                     7008\n",
      "Method:                           MLE   Df Model:                           23\n",
      "Date:                Sat, 25 Oct 2025   Pseudo R-squ.:                  0.2845\n",
      "Time:                        14:06:42   Log-Likelihood:                -2913.1\n",
      "converged:                       True   LL-Null:                       -4071.7\n",
      "Covariance Type:            nonrobust   LLR p-value:                     0.000\n",
      "=========================================================================================================\n",
      "                                            coef    std err          z      P>|z|      [0.025      0.975]\n",
      "---------------------------------------------------------------------------------------------------------\n",
      "const                                     1.1653      0.815      1.430      0.153      -0.432       2.763\n",
      "SeniorCitizen                             0.2168      0.085      2.564      0.010       0.051       0.382\n",
      "tenure                                   -0.0606      0.006     -9.716      0.000      -0.073      -0.048\n",
      "MonthlyCharges                           -0.0403      0.032     -1.270      0.204      -0.103       0.022\n",
      "TotalCharges                              0.0003   7.06e-05      4.657      0.000       0.000       0.000\n",
      "gender_Male                              -0.0218      0.065     -0.337      0.736      -0.149       0.105\n",
      "Partner_Yes                              -0.0004      0.078     -0.005      0.996      -0.153       0.152\n",
      "Dependents_Yes                           -0.1485      0.090     -1.655      0.098      -0.324       0.027\n",
      "PhoneService_Yes                          0.1715      0.649      0.264      0.792      -1.100       1.443\n",
      "MultipleLines_Yes                         0.4484      0.177      2.530      0.011       0.101       0.796\n",
      "InternetService_Fiber optic               1.7475      0.798      2.190      0.029       0.183       3.312\n",
      "InternetService_No                       -1.7863      0.807     -2.213      0.027      -3.369      -0.204\n",
      "OnlineSecurity_Yes                       -0.2054      0.179     -1.150      0.250      -0.556       0.145\n",
      "OnlineBackup_Yes                          0.0260      0.175      0.148      0.882      -0.318       0.370\n",
      "DeviceProtection_Yes                      0.1474      0.176      0.836      0.403      -0.198       0.493\n",
      "TechSupport_Yes                          -0.1805      0.181     -0.999      0.318      -0.534       0.173\n",
      "StreamingTV_Yes                           0.5905      0.326      1.810      0.070      -0.049       1.230\n",
      "StreamingMovies_Yes                       0.5993      0.327      1.834      0.067      -0.041       1.240\n",
      "Contract_One year                        -0.6608      0.108     -6.142      0.000      -0.872      -0.450\n",
      "Contract_Two year                        -1.3571      0.176     -7.691      0.000      -1.703      -1.011\n",
      "PaperlessBilling_Yes                      0.3424      0.074      4.596      0.000       0.196       0.488\n",
      "PaymentMethod_Credit card (automatic)    -0.0878      0.114     -0.770      0.442      -0.311       0.136\n",
      "PaymentMethod_Electronic check            0.3045      0.094      3.222      0.001       0.119       0.490\n",
      "PaymentMethod_Mailed check               -0.0576      0.115     -0.501      0.616      -0.283       0.168\n",
      "=========================================================================================================\n"
     ]
    }
   ],
   "source": [
    "logit_model = sm.Logit(y, X)\n",
    "result = logit_model.fit()\n",
    "\n",
    "# Display model summary\n",
    "print(result.summary())"
   ]
  },
  {
   "cell_type": "code",
   "execution_count": 10,
   "id": "cc7c87d7-7b74-4e39-846d-5707280780ee",
   "metadata": {},
   "outputs": [
    {
     "name": "stdout",
     "output_type": "stream",
     "text": [
      "                                                      Variable  Coefficient  \\\n",
      "tenure                                                  tenure    -0.060588   \n",
      "Contract_Two year                            Contract_Two year    -1.357106   \n",
      "Contract_One year                            Contract_One year    -0.660795   \n",
      "TotalCharges                                      TotalCharges     0.000329   \n",
      "PaperlessBilling_Yes                      PaperlessBilling_Yes     0.342354   \n",
      "PaymentMethod_Electronic check  PaymentMethod_Electronic check     0.304467   \n",
      "SeniorCitizen                                    SeniorCitizen     0.216775   \n",
      "MultipleLines_Yes                            MultipleLines_Yes     0.448395   \n",
      "InternetService_No                          InternetService_No    -1.786295   \n",
      "InternetService_Fiber optic        InternetService_Fiber optic     1.747475   \n",
      "\n",
      "                                     p-value  \n",
      "tenure                          2.585486e-22  \n",
      "Contract_Two year               1.463195e-14  \n",
      "Contract_One year               8.149453e-10  \n",
      "TotalCharges                    3.206659e-06  \n",
      "PaperlessBilling_Yes            4.315303e-06  \n",
      "PaymentMethod_Electronic check  1.273159e-03  \n",
      "SeniorCitizen                   1.033407e-02  \n",
      "MultipleLines_Yes               1.141828e-02  \n",
      "InternetService_No              2.691520e-02  \n",
      "InternetService_Fiber optic     2.855459e-02  \n"
     ]
    }
   ],
   "source": [
    "coef_df = pd.DataFrame({\n",
    "    'Variable': result.params.index,\n",
    "    'Coefficient': result.params.values,\n",
    "    'p-value': result.pvalues\n",
    "}).sort_values('p-value')\n",
    "\n",
    "# Show top 10 significant predictors\n",
    "print(coef_df.head(10))"
   ]
  },
  {
   "cell_type": "code",
   "execution_count": 12,
   "id": "5c63a67c-d467-49fb-82c0-113c598c9ea7",
   "metadata": {},
   "outputs": [
    {
     "name": "stdout",
     "output_type": "stream",
     "text": [
      "                                                      Variable  Odds Ratio  \\\n",
      "tenure                                                  tenure    0.941211   \n",
      "Contract_Two year                            Contract_Two year    0.257405   \n",
      "Contract_One year                            Contract_One year    0.516440   \n",
      "TotalCharges                                      TotalCharges    1.000329   \n",
      "PaperlessBilling_Yes                      PaperlessBilling_Yes    1.408258   \n",
      "PaymentMethod_Electronic check  PaymentMethod_Electronic check    1.355902   \n",
      "SeniorCitizen                                    SeniorCitizen    1.242065   \n",
      "MultipleLines_Yes                            MultipleLines_Yes    1.565798   \n",
      "InternetService_No                          InternetService_No    0.167580   \n",
      "InternetService_Fiber optic        InternetService_Fiber optic    5.740090   \n",
      "\n",
      "                                CI Lower   CI Upper       p-value  \n",
      "tenure                          0.929777   0.952786  2.585486e-22  \n",
      "Contract_Two year               0.182143   0.363764  1.463195e-14  \n",
      "Contract_One year               0.418256   0.637673  8.149453e-10  \n",
      "TotalCharges                    1.000191   1.000467  3.206659e-06  \n",
      "PaperlessBilling_Yes            1.216945   1.629647  4.315303e-06  \n",
      "PaymentMethod_Electronic check  1.126658   1.631792  1.273159e-03  \n",
      "SeniorCitizen                   1.052425   1.465875  1.033407e-02  \n",
      "MultipleLines_Yes               1.106252   2.216243  1.141828e-02  \n",
      "InternetService_No              0.034440   0.815410  2.691520e-02  \n",
      "InternetService_Fiber optic     1.201120  27.431587  2.855459e-02  \n"
     ]
    }
   ],
   "source": [
    "# Calculate odds ratios and confidence intervals\n",
    "odds_ratios = np.exp(result.params)\n",
    "conf = np.exp(result.conf_int())\n",
    "odds_df = pd.DataFrame({\n",
    "    'Variable': result.params.index,\n",
    "    'Odds Ratio': odds_ratios,\n",
    "    'CI Lower': conf[0],\n",
    "    'CI Upper': conf[1],\n",
    "    'p-value': result.pvalues\n",
    "}).sort_values('p-value')\n",
    "\n",
    "# Display top 10\n",
    "print(odds_df.head(10))"
   ]
  }
 ],
 "metadata": {
  "kernelspec": {
   "display_name": "Python 3 (ipykernel)",
   "language": "python",
   "name": "python3"
  },
  "language_info": {
   "codemirror_mode": {
    "name": "ipython",
    "version": 3
   },
   "file_extension": ".py",
   "mimetype": "text/x-python",
   "name": "python",
   "nbconvert_exporter": "python",
   "pygments_lexer": "ipython3",
   "version": "3.11.4"
  }
 },
 "nbformat": 4,
 "nbformat_minor": 5
}
